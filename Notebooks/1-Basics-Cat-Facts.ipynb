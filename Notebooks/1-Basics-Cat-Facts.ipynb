{
 "cells": [
  {
   "cell_type": "markdown",
   "metadata": {},
   "source": [
    "## Cat Facts\n",
    "This notebook shows how to create, run, and use output from the Cat Facts assistant! This assistant uses a free demonstration web service with no authentication.\n",
    "\n",
    "The assistant definition enables Code Interpreter which the assistant uses to create a file which is downloaded in the last step.\n",
    "\n",
    "## First steps\n",
    "- First, download AntRunLib from Nuget\n",
    "- At least once, set up the environment using **[0-AI-settings](0-AI-settings.ipynb)**"
   ]
  },
  {
   "cell_type": "code",
   "execution_count": 1,
   "metadata": {
    "dotnet_interactive": {
     "language": "csharp"
    },
    "polyglot_notebook": {
     "kernelName": "csharp"
    },
    "vscode": {
     "languageId": "polyglot-notebook"
    }
   },
   "outputs": [
    {
     "data": {
      "text/html": [
       "<div><div></div><div></div><div><strong>Installed Packages</strong><ul><li><span>AntRunnerLib, 0.9.0</span></li></ul></div></div>"
      ]
     },
     "metadata": {},
     "output_type": "display_data"
    }
   ],
   "source": [
    "#r \"nuget: AntRunnerLib, 0.9.1\"\n",
    "\n",
    "using AntRunnerLib;\n",
    "using AntRunnerLib.Identity;\n",
    "using static AntRunnerLib.ClientUtility;\n",
    "using System.IO;\n",
    "\n",
    "#!import config/Settings.cs \n",
    "\n",
    "var envVariables = Settings.GetEnvironmentVariables();\n",
    "foreach (var kvp in envVariables)\n",
    "{\n",
    "    Environment.SetEnvironmentVariable(kvp.Key, kvp.Value);\n",
    "}\n",
    "\n",
    "var config = AzureOpenAiConfigFactory.Get();\n",
    "var client = GetOpenAiClient(config);\n"
   ]
  },
  {
   "cell_type": "markdown",
   "metadata": {},
   "source": [
    "## List the assistants in your deployment\n",
    "If you get an error, verify your setup!"
   ]
  },
  {
   "cell_type": "code",
   "execution_count": 7,
   "metadata": {
    "dotnet_interactive": {
     "language": "csharp"
    },
    "polyglot_notebook": {
     "kernelName": "csharp"
    },
    "vscode": {
     "languageId": "polyglot-notebook"
    }
   },
   "outputs": [
    {
     "data": {
      "text/html": [
       "<div class=\"dni-plaintext\"><pre>&lt;null&gt;</pre></div><style>\r\n",
       ".dni-code-hint {\r\n",
       "    font-style: italic;\r\n",
       "    overflow: hidden;\r\n",
       "    white-space: nowrap;\r\n",
       "}\r\n",
       ".dni-treeview {\r\n",
       "    white-space: nowrap;\r\n",
       "}\r\n",
       ".dni-treeview td {\r\n",
       "    vertical-align: top;\r\n",
       "    text-align: start;\r\n",
       "}\r\n",
       "details.dni-treeview {\r\n",
       "    padding-left: 1em;\r\n",
       "}\r\n",
       "table td {\r\n",
       "    text-align: start;\r\n",
       "}\r\n",
       "table tr { \r\n",
       "    vertical-align: top; \r\n",
       "    margin: 0em 0px;\r\n",
       "}\r\n",
       "table tr td pre \r\n",
       "{ \r\n",
       "    vertical-align: top !important; \r\n",
       "    margin: 0em 0px !important;\r\n",
       "} \r\n",
       "table th {\r\n",
       "    text-align: start;\r\n",
       "}\r\n",
       "</style>"
      ]
     },
     "metadata": {},
     "output_type": "display_data"
    }
   ],
   "source": [
    "var assistants = (await client.AssistantList())?.Data;\n",
    "if (assistants == null)\n",
    "{\n",
    "    Console.WriteLine(\"No assistants found, check your configuration\");\n",
    "    return;\n",
    "}\n",
    "\n",
    "foreach(var assistant in assistants)\n",
    "{\n",
    "    Console.WriteLine(assistant.Name);\n",
    "}"
   ]
  },
  {
   "cell_type": "code",
   "execution_count": 9,
   "metadata": {
    "dotnet_interactive": {
     "language": "csharp"
    },
    "polyglot_notebook": {
     "kernelName": "csharp"
    },
    "vscode": {
     "languageId": "polyglot-notebook"
    }
   },
   "outputs": [
    {
     "name": "stdout",
     "output_type": "stream",
     "text": [
      "Didn't find cat facts\n"
     ]
    }
   ],
   "source": [
    "var assistant = (await client.AssistantList())?.Data?.FirstOrDefault(o => o.Name == \"Cat Facts\");\n",
    "if(assistant != null) {\n",
    "    await client.AssistantDelete(assistant.Id);\n",
    "    Console.WriteLine(\"Deleted assistant\");\n",
    "}\n",
    "else\n",
    "{\n",
    "    Console.WriteLine(\"Didn't find cat facts\");\n",
    "}"
   ]
  },
  {
   "cell_type": "markdown",
   "metadata": {},
   "source": [
    "## Create the Cat Facts assistant\n",
    "The definition of this assistant is located in the \".\\AssistantDefinitions\\Cat Facts\" folder\n",
    "\n",
    "\".\\AssistantDefinitions\\\" is a default path. You can override it by setting the **ASSISTANTS_BASE_FOLDER_PATH** environment variable.\n",
    "\n",
    "\"Cat Facts\" contains the following files:\n",
    "```\n",
    "Cat Facts\n",
    "│   instructions.md - The assistant's instructions. This file is optional but when present overwrites the value of the instructions property in manifest.json\n",
    "│   manifest.json - The assistants base settings including model, \"model\": \"gpt-4o\". You need to ensure you have deployed whatever models your assistants require\n",
    "│\n",
    "└───OpenAPI\n",
    "        cat-fact.herokuapp.com.json - The swagger definition for the test service\n",
    "\n",
    "```\n",
    "\n",
    "[See https://github.com/alexwohlbruck/cat-facts](https://github.com/alexwohlbruck/cat-facts)\n",
    "\n",
    "### Explanation\n",
    "`AssistantUtility.Create` acts based on the contents of a folder structure following a convention laid out in these notebooks. In this case, it copied the contents of instructions.md into the assistant manifest.json. It also parsed the cat-facts swagger which follows an Open API schema into tool defintions for the assistant."
   ]
  },
  {
   "cell_type": "code",
   "execution_count": 10,
   "metadata": {
    "dotnet_interactive": {
     "language": "csharp"
    },
    "polyglot_notebook": {
     "kernelName": "csharp"
    },
    "vscode": {
     "languageId": "polyglot-notebook"
    }
   },
   "outputs": [
    {
     "name": "stdout",
     "output_type": "stream",
     "text": [
      "asst_QaFUzkjE2WEW7wMiwvgjK7v3\n",
      "asst_u2TkBjRXhlnOtnYIQKVYVuin\n"
     ]
    }
   ],
   "source": [
    "var assistantId = await AssistantUtility.Create(\"Cat Facts\", config);\n",
    "var assistantId2 = await AssistantUtility.Create(\"ConversationUserProxy\",config);\n",
    "Console.WriteLine(assistantId);\n",
    "Console.WriteLine(assistantId2);"
   ]
  },
  {
   "cell_type": "markdown",
   "metadata": {},
   "source": [
    "## Run the Assistant\n",
    "\n",
    "`output.Dialog` shows the conversation. This version of AntRunner uses a built-in assistant definition. Upon completion the thread is deleted."
   ]
  },
  {
   "cell_type": "code",
   "execution_count": 2,
   "metadata": {
    "dotnet_interactive": {
     "language": "csharp"
    },
    "polyglot_notebook": {
     "kernelName": "csharp"
    },
    "vscode": {
     "languageId": "polyglot-notebook"
    }
   },
   "outputs": [
    {
     "data": {
      "text/markdown": [
       "\n",
       "User: Create a plan to tell me something about cats. Review with me before using any tools\n",
       "\n",
       "Assistant: Sure! Here's a plan to tell you something interesting about cats:\n",
       "\n",
       "1. **Introduction**:\n",
       "   - Start with a general introduction about cats as popular pets.\n",
       "\n",
       "2. **Cat Facts**:\n",
       "   - Provide some basic facts about cats, such as their physical characteristics, behavior, and common breeds.\n",
       "\n",
       "3. **Unique Behaviors**:\n",
       "   - Discuss some unique behaviors and traits of cats, such as purring, kneading, and their grooming habits.\n",
       "\n",
       "4. **Health and Lifespan**:\n",
       "   - Share information about the average health and lifespan of domestic cats, including common health issues.\n",
       "\n",
       "5. **Fun Facts**:\n",
       "   - Provide some fun and lesser-known facts about cats to make the information engaging.\n",
       "\n",
       "6. **Conclusion**:\n",
       "   - Summarize the key points and wrap up the discussion.\n",
       "\n",
       "Would you like to proceed with this plan, or would you like to make any changes or additions before we proceed?\n",
       "\n",
       "User: Yes, go ahead\n",
       "\n",
       "Assistant: Great! Let's start with the plan.\n",
       "\n",
       "### Introduction\n",
       "Cats are one of the most popular pets in the world, known for their playful and independent nature. They have been domesticated for thousands of years and are beloved by many for their companionship and unique personalities.\n",
       "\n",
       "### Cat Facts\n",
       "1. **Physical Characteristics**:\n",
       "   - Cats are small, carnivorous mammals with soft fur, sharp claws, and keen senses.\n",
       "   - They usually weigh between 5 to 20 pounds and have an average length of about 18 inches, excluding the tail.\n",
       "\n",
       "2. **Behavior**:\n",
       "   - Cats are known for their agility and grace. They can jump up to six times their body length.\n",
       "   - They are crepuscular, meaning they are most active during dawn and dusk.\n",
       "\n",
       "3. **Common Breeds**:\n",
       "   - Some popular cat breeds include the Siamese, Persian, Maine Coon, and Bengal.\n",
       "\n",
       "### Unique Behaviors\n",
       "1. **Purring**:\n",
       "   - Cats purr for various reasons, including contentment, comfort, and even when they are in pain as a self-soothing mechanism.\n",
       "   \n",
       "2. **Kneading**:\n",
       "   - Cats often knead with their paws on soft surfaces, which is a behavior they carry from kittenhood when they kneaded their mother's belly to stimulate milk flow.\n",
       "\n",
       "3. **Grooming**:\n",
       "   - Cats spend a significant amount of time grooming themselves to keep their fur clean and free of parasites. Grooming also helps them regulate their body temperature.\n",
       "\n",
       "### Health and Lifespan\n",
       "1. **Lifespan**:\n",
       "   - The average lifespan of a domestic cat is around 12 to 15 years, although some cats can live into their 20s with proper care.\n",
       "\n",
       "2. **Common Health Issues**:\n",
       "   - Common health issues in cats include dental problems, obesity, kidney disease, and hyperthyroidism. Regular veterinary check-ups are essential to maintaining a cat's health.\n",
       "\n",
       "### Fun Facts\n",
       "1. Cats have a specialized collarbone that allows them to always land on their feet when they fall.\n",
       "2. A cat's nose print is unique, similar to a human fingerprint.\n",
       "3. Cats have a third eyelid, called the haw, which helps protect their eyes.\n",
       "\n",
       "### Conclusion\n",
       "Cats are fascinating creatures with a rich history and a variety of unique behaviors and traits. They make wonderful companions for those who appreciate their independent yet affectionate nature.\n",
       "\n",
       "If you'd like more detailed information on any specific aspect of cats, please let me know!\n"
      ]
     },
     "metadata": {},
     "output_type": "display_data"
    }
   ],
   "source": [
    "var assistantRunOptions = new AssistantRunOptions() {\n",
    "    AssistantName = \"Cat Facts\",\n",
    "    Instructions = \"Create a plan to tell me something about cats. Review with me before using any tools\",\n",
    "    Evaluator = \"ConversationUserProxy\"\n",
    "};\n",
    "var output = await AntRunnerLib.AssistantRunner.RunThread(assistantRunOptions, config);\n",
    "output.Dialog.DisplayAs(\"text/markdown\");"
   ]
  },
  {
   "cell_type": "markdown",
   "metadata": {},
   "source": [
    "## output.LastMessage\n",
    "A core perspective of AntRunnerLib is to get the richness of the assistants API with file retrieval, code interpreter, and function calls in the logical form of a chat completion.\n",
    "```\n",
    "output.LastMessage // Final answer\n",
    "```\n"
   ]
  },
  {
   "cell_type": "code",
   "execution_count": 3,
   "metadata": {
    "dotnet_interactive": {
     "language": "csharp"
    },
    "polyglot_notebook": {
     "kernelName": "csharp"
    },
    "vscode": {
     "languageId": "polyglot-notebook"
    }
   },
   "outputs": [
    {
     "data": {
      "text/markdown": [
       "Great! Let's start with the plan.\n",
       "\n",
       "### Introduction\n",
       "Cats are one of the most popular pets in the world, known for their playful and independent nature. They have been domesticated for thousands of years and are beloved by many for their companionship and unique personalities.\n",
       "\n",
       "### Cat Facts\n",
       "1. **Physical Characteristics**:\n",
       "   - Cats are small, carnivorous mammals with soft fur, sharp claws, and keen senses.\n",
       "   - They usually weigh between 5 to 20 pounds and have an average length of about 18 inches, excluding the tail.\n",
       "\n",
       "2. **Behavior**:\n",
       "   - Cats are known for their agility and grace. They can jump up to six times their body length.\n",
       "   - They are crepuscular, meaning they are most active during dawn and dusk.\n",
       "\n",
       "3. **Common Breeds**:\n",
       "   - Some popular cat breeds include the Siamese, Persian, Maine Coon, and Bengal.\n",
       "\n",
       "### Unique Behaviors\n",
       "1. **Purring**:\n",
       "   - Cats purr for various reasons, including contentment, comfort, and even when they are in pain as a self-soothing mechanism.\n",
       "   \n",
       "2. **Kneading**:\n",
       "   - Cats often knead with their paws on soft surfaces, which is a behavior they carry from kittenhood when they kneaded their mother's belly to stimulate milk flow.\n",
       "\n",
       "3. **Grooming**:\n",
       "   - Cats spend a significant amount of time grooming themselves to keep their fur clean and free of parasites. Grooming also helps them regulate their body temperature.\n",
       "\n",
       "### Health and Lifespan\n",
       "1. **Lifespan**:\n",
       "   - The average lifespan of a domestic cat is around 12 to 15 years, although some cats can live into their 20s with proper care.\n",
       "\n",
       "2. **Common Health Issues**:\n",
       "   - Common health issues in cats include dental problems, obesity, kidney disease, and hyperthyroidism. Regular veterinary check-ups are essential to maintaining a cat's health.\n",
       "\n",
       "### Fun Facts\n",
       "1. Cats have a specialized collarbone that allows them to always land on their feet when they fall.\n",
       "2. A cat's nose print is unique, similar to a human fingerprint.\n",
       "3. Cats have a third eyelid, called the haw, which helps protect their eyes.\n",
       "\n",
       "### Conclusion\n",
       "Cats are fascinating creatures with a rich history and a variety of unique behaviors and traits. They make wonderful companions for those who appreciate their independent yet affectionate nature.\n",
       "\n",
       "If you'd like more detailed information on any specific aspect of cats, please let me know!"
      ]
     },
     "metadata": {},
     "output_type": "display_data"
    }
   ],
   "source": [
    "output.LastMessage.DisplayAs(\"text/markdown\");"
   ]
  },
  {
   "cell_type": "markdown",
   "metadata": {},
   "source": [
    "## Downloading files from code interpreter\n",
    "In addition to the Cat Facts API, this assistant also uses code interpreter based on its [manifest.json](.\\AssistantDefinitions\\Cat%20Facts\\manifest.json):\n",
    "\n",
    "```json\n",
    "{\n",
    "  \"name\": \"Cat Facts\",\n",
    "  \"description\": \"I look up facts about cats and can also write Python code!\",\n",
    "  \"instructions\": \"\",\n",
    "  \"tools\": [\n",
    "    { \"type\": \"code_interpreter\" }\n",
    "  ],\n",
    "  \"tool_resources\": {},\n",
    "  \"top_p\": 0.95,\n",
    "  \"response_format\": \"auto\",\n",
    "  \"metadata\": {\n",
    "  },\n",
    "  \"model\": \"gpt-4o\",\n",
    "  \"temperature\": 0.7\n",
    "}\n",
    "```\n",
    "\n",
    "This prompt instructs the assistant to create a file **\"Tell me something about cats and put the results into a file I can download\"**. \n",
    "\n",
    "As a result the output contains Annotations. You can download the ones with annotation.Type == \"file_path\" as demonstrated below."
   ]
  },
  {
   "cell_type": "code",
   "execution_count": 6,
   "metadata": {
    "dotnet_interactive": {
     "language": "csharp"
    },
    "polyglot_notebook": {
     "kernelName": "csharp"
    },
    "vscode": {
     "languageId": "polyglot-notebook"
    }
   },
   "outputs": [
    {
     "data": {
      "text/markdown": [
       "\n",
       "User: Tell me something about cats and put the results into a file I can download\n",
       "\n",
       "Assistant: Sure! Here are some interesting facts about cats:\n",
       "\n",
       "1. **Domestication**: Cats were first domesticated around 9,000 years ago in the Near East.\n",
       "2. **Sleep**: Cats sleep for 70% of their lives, which amounts to around 13-16 hours a day.\n",
       "3. **Communication**: Cats use a variety of vocalizations, body language, and scent to communicate with humans and other cats.\n",
       "4. **Whiskers**: Cats have whiskers on the backs of their front legs, as well as on their faces, to help them sense their environment.\n",
       "5. **Diet**: Cats are obligate carnivores, meaning they require a diet primarily of meat.\n",
       "6. **Physical Abilities**: Cats have powerful night vision, allowing them to see at light levels six times lower than what a human needs.\n",
       "7. **Purring**: While purring is often associated with contentment, cats also purr when they are frightened or in pain as a self-soothing mechanism.\n",
       "8. **Climbing**: Cats have retractable claws that they use for climbing and catching prey.\n",
       "9. **Territory**: Cats are territorial animals and often mark their territory with scent glands located on their face, paws, and tail.\n",
       "10. **Lifespan**: Domestic cats can live up to 15 years or more, with some reaching their early 20s.\n",
       "\n",
       "Now I will save these facts to a file for you to download.\n",
       "\n",
       "I ran this code:\n",
       "```\n",
       "# Writing the cat facts to a file\n",
       "cat_facts = \"\"\"\n",
       "1. Domestication: Cats were first domesticated around 9,000 years ago in the Near East.\n",
       "2. Sleep: Cats sleep for 70% of their lives, which amounts to around 13-16 hours a day.\n",
       "3. Communication: Cats use a variety of vocalizations, body language, and scent to communicate with humans and other cats.\n",
       "4. Whiskers: Cats have whiskers on the backs of their front legs, as well as on their faces, to help them sense their environment.\n",
       "5. Diet: Cats are obligate carnivores, meaning they require a diet primarily of meat.\n",
       "6. Physical Abilities: Cats have powerful night vision, allowing them to see at light levels six times lower than what a human needs.\n",
       "7. Purring: While purring is often associated with contentment, cats also purr when they are frightened or in pain as a self-soothing mechanism.\n",
       "8. Climbing: Cats have retractable claws that they use for climbing and catching prey.\n",
       "9. Territory: Cats are territorial animals and often mark their territory with scent glands located on their face, paws, and tail.\n",
       "10. Lifespan: Domestic cats can live up to 15 years or more, with some reaching their early 20s.\n",
       "\"\"\"\n",
       "\n",
       "# Save to file\n",
       "file_path = \"/mnt/data/cat_facts.txt\"\n",
       "with open(file_path, \"w\") as file:\n",
       "    file.write(cat_facts)\n",
       "\n",
       "file_path\n",
       "```\n",
       "\n",
       "I have saved the cat facts to a file. You can download it using the link below:\n",
       "\n",
       "[Download Cat Facts](sandbox:/mnt/data/cat_facts.txt)\n"
      ]
     },
     "metadata": {},
     "output_type": "display_data"
    },
    {
     "name": "stdout",
     "output_type": "stream",
     "text": [
      "assistant-dLUafkXTBnWY5HRntbBG6ccx\n",
      "./cat_facts.txt\n"
     ]
    }
   ],
   "source": [
    "var assistantRunOptions = new AssistantRunOptions() {\n",
    "    AssistantName = \"Cat Facts\",\n",
    "    Instructions = \"Tell me something about cats and put the results into a file I can download\",\n",
    "};\n",
    "var output = await AntRunnerLib.AssistantRunner.RunThread(assistantRunOptions, config);\n",
    "output.Dialog.DisplayAs(\"text/markdown\");\n",
    "Console.WriteLine(output.Annotations[0].FilePathAnnotation.FileId);\n",
    "\n",
    "// Download files specified in FilePathAnnotation\n",
    "foreach (var annotation in output.Annotations)\n",
    "{\n",
    "    if (annotation.Type == \"file_path\")\n",
    "    {\n",
    "        var fileName = await annotation.GetFileName(config);\n",
    "\n",
    "        var filePath = Path.Combine(@\".\", fileName);\n",
    "        await annotation.DownloadFile(filePath, config);\n",
    "        Console.WriteLine($\"{filePath}\");\n",
    "    }\n",
    "}\n"
   ]
  },
  {
   "cell_type": "markdown",
   "metadata": {},
   "source": [
    "## Clean up"
   ]
  },
  {
   "cell_type": "code",
   "execution_count": 11,
   "metadata": {
    "dotnet_interactive": {
     "language": "csharp"
    },
    "polyglot_notebook": {
     "kernelName": "csharp"
    },
    "vscode": {
     "languageId": "polyglot-notebook"
    }
   },
   "outputs": [
    {
     "name": "stdout",
     "output_type": "stream",
     "text": [
      "Deleted assistant\r\n"
     ]
    }
   ],
   "source": [
    "var assistant = (await client.AssistantList())?.Data?.FirstOrDefault(o => o.Name == \"Cat Facts\");\n",
    "if(assistant != null) {\n",
    "    await client.AssistantDelete(assistant.Id);\n",
    "    Console.WriteLine(\"Deleted assistant\");\n",
    "}\n",
    "else\n",
    "{\n",
    "    Console.WriteLine(\"Didn't find Cat Facts\");\n",
    "}"
   ]
  }
 ],
 "metadata": {
  "kernelspec": {
   "display_name": ".NET (C#)",
   "language": "C#",
   "name": ".net-csharp"
  },
  "language_info": {
   "name": "python"
  },
  "polyglot_notebook": {
   "kernelInfo": {
    "defaultKernelName": "csharp",
    "items": [
     {
      "aliases": [],
      "name": "csharp"
     }
    ]
   }
  }
 },
 "nbformat": 4,
 "nbformat_minor": 2
}
